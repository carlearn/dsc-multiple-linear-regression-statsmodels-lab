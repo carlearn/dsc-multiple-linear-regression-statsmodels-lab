{
 "cells": [
  {
   "cell_type": "markdown",
   "metadata": {},
   "source": [
    "# Multiple Linear Regression in Statsmodels - Lab"
   ]
  },
  {
   "cell_type": "markdown",
   "metadata": {},
   "source": [
    "## Introduction\n",
    "In this lab, you'll practice fitting a multiple linear regression model on the Ames Housing dataset!"
   ]
  },
  {
   "cell_type": "markdown",
   "metadata": {},
   "source": [
    "## Objectives\n",
    "You will be able to:\n",
    "* Determine if it is necessary to perform normalization/standardization for a specific model or set of data\n",
    "* Use standardization/normalization on features of a dataset\n",
    "* Identify if it is necessary to perform log transformations on a set of features\n",
    "* Perform log transformations on different features of a dataset\n",
    "* Use statsmodels to fit a multiple linear regression model\n",
    "* Evaluate a linear regression model by using statistical performance metrics pertaining to overall model and specific parameters\n"
   ]
  },
  {
   "cell_type": "markdown",
   "metadata": {},
   "source": [
    "## The Ames Housing Data"
   ]
  },
  {
   "cell_type": "markdown",
   "metadata": {},
   "source": [
    "Using the specified continuous and categorical features, preprocess your data to prepare for modeling:\n",
    "* Split off and one hot encode the categorical features of interest\n",
    "* Log and scale the selected continuous features"
   ]
  },
  {
   "cell_type": "code",
   "execution_count": 1,
   "metadata": {},
   "outputs": [],
   "source": [
    "import pandas as pd\n",
    "import numpy as np\n",
    "\n",
    "ames = pd.read_csv('ames.csv')\n",
    "\n",
    "continuous = ['LotArea', '1stFlrSF', 'GrLivArea', 'SalePrice']\n",
    "categoricals = ['BldgType', 'KitchenQual', 'SaleType', 'MSZoning', 'Street', 'Neighborhood']\n"
   ]
  },
  {
   "cell_type": "markdown",
   "metadata": {},
   "source": [
    "## Continuous Features"
   ]
  },
  {
   "cell_type": "code",
   "execution_count": 2,
   "metadata": {},
   "outputs": [],
   "source": [
    "ames_log = ames[continuous].apply(lambda x: np.log(x))"
   ]
  },
  {
   "cell_type": "code",
   "execution_count": 3,
   "metadata": {},
   "outputs": [],
   "source": [
    "from sklearn.preprocessing import StandardScaler"
   ]
  },
  {
   "cell_type": "code",
   "execution_count": 4,
   "metadata": {},
   "outputs": [],
   "source": [
    "ss = StandardScaler()\n",
    "log_std = pd.DataFrame(ss.fit_transform(ames_log), columns = ames_log.columns)"
   ]
  },
  {
   "cell_type": "code",
   "execution_count": 5,
   "metadata": {},
   "outputs": [
    {
     "data": {
      "text/html": [
       "<div>\n",
       "<style scoped>\n",
       "    .dataframe tbody tr th:only-of-type {\n",
       "        vertical-align: middle;\n",
       "    }\n",
       "\n",
       "    .dataframe tbody tr th {\n",
       "        vertical-align: top;\n",
       "    }\n",
       "\n",
       "    .dataframe thead th {\n",
       "        text-align: right;\n",
       "    }\n",
       "</style>\n",
       "<table border=\"1\" class=\"dataframe\">\n",
       "  <thead>\n",
       "    <tr style=\"text-align: right;\">\n",
       "      <th></th>\n",
       "      <th>LotArea</th>\n",
       "      <th>1stFlrSF</th>\n",
       "      <th>GrLivArea</th>\n",
       "      <th>SalePrice</th>\n",
       "    </tr>\n",
       "  </thead>\n",
       "  <tbody>\n",
       "    <tr>\n",
       "      <th>0</th>\n",
       "      <td>-0.133231</td>\n",
       "      <td>-0.803570</td>\n",
       "      <td>0.529260</td>\n",
       "      <td>0.560068</td>\n",
       "    </tr>\n",
       "    <tr>\n",
       "      <th>1</th>\n",
       "      <td>0.113442</td>\n",
       "      <td>0.418585</td>\n",
       "      <td>-0.381846</td>\n",
       "      <td>0.212764</td>\n",
       "    </tr>\n",
       "    <tr>\n",
       "      <th>2</th>\n",
       "      <td>0.420061</td>\n",
       "      <td>-0.576560</td>\n",
       "      <td>0.659675</td>\n",
       "      <td>0.734046</td>\n",
       "    </tr>\n",
       "    <tr>\n",
       "      <th>3</th>\n",
       "      <td>0.103347</td>\n",
       "      <td>-0.439287</td>\n",
       "      <td>0.541511</td>\n",
       "      <td>-0.437382</td>\n",
       "    </tr>\n",
       "    <tr>\n",
       "      <th>4</th>\n",
       "      <td>0.878409</td>\n",
       "      <td>0.112267</td>\n",
       "      <td>1.282191</td>\n",
       "      <td>1.014651</td>\n",
       "    </tr>\n",
       "  </tbody>\n",
       "</table>\n",
       "</div>"
      ],
      "text/plain": [
       "    LotArea  1stFlrSF  GrLivArea  SalePrice\n",
       "0 -0.133231 -0.803570   0.529260   0.560068\n",
       "1  0.113442  0.418585  -0.381846   0.212764\n",
       "2  0.420061 -0.576560   0.659675   0.734046\n",
       "3  0.103347 -0.439287   0.541511  -0.437382\n",
       "4  0.878409  0.112267   1.282191   1.014651"
      ]
     },
     "execution_count": 5,
     "metadata": {},
     "output_type": "execute_result"
    }
   ],
   "source": [
    "log_std.head()"
   ]
  },
  {
   "cell_type": "markdown",
   "metadata": {},
   "source": [
    "## Categorical Features"
   ]
  },
  {
   "cell_type": "code",
   "execution_count": 6,
   "metadata": {},
   "outputs": [],
   "source": [
    "from sklearn.preprocessing import OneHotEncoder"
   ]
  },
  {
   "cell_type": "code",
   "execution_count": 7,
   "metadata": {},
   "outputs": [],
   "source": [
    "ohe = OneHotEncoder(drop='first', sparse=False)"
   ]
  },
  {
   "cell_type": "code",
   "execution_count": 8,
   "metadata": {},
   "outputs": [
    {
     "data": {
      "text/plain": [
       "<bound method OneHotEncoder.get_feature_names of OneHotEncoder(categorical_features=None, categories=None, drop='first',\n",
       "              dtype=<class 'numpy.float64'>, handle_unknown='error',\n",
       "              n_values=None, sparse=False)>"
      ]
     },
     "execution_count": 8,
     "metadata": {},
     "output_type": "execute_result"
    }
   ],
   "source": [
    "ohe.get_feature_names"
   ]
  },
  {
   "cell_type": "code",
   "execution_count": 9,
   "metadata": {},
   "outputs": [],
   "source": [
    "ohe_df = pd.DataFrame(ohe.fit_transform(ames[categoricals]), columns = ohe.get_feature_names())"
   ]
  },
  {
   "cell_type": "code",
   "execution_count": 10,
   "metadata": {},
   "outputs": [
    {
     "data": {
      "text/html": [
       "<div>\n",
       "<style scoped>\n",
       "    .dataframe tbody tr th:only-of-type {\n",
       "        vertical-align: middle;\n",
       "    }\n",
       "\n",
       "    .dataframe tbody tr th {\n",
       "        vertical-align: top;\n",
       "    }\n",
       "\n",
       "    .dataframe thead th {\n",
       "        text-align: right;\n",
       "    }\n",
       "</style>\n",
       "<table border=\"1\" class=\"dataframe\">\n",
       "  <thead>\n",
       "    <tr style=\"text-align: right;\">\n",
       "      <th></th>\n",
       "      <th>x0_2fmCon</th>\n",
       "      <th>x0_Duplex</th>\n",
       "      <th>x0_Twnhs</th>\n",
       "      <th>x0_TwnhsE</th>\n",
       "      <th>x1_Fa</th>\n",
       "      <th>x1_Gd</th>\n",
       "      <th>x1_TA</th>\n",
       "      <th>x2_CWD</th>\n",
       "      <th>x2_Con</th>\n",
       "      <th>x2_ConLD</th>\n",
       "      <th>...</th>\n",
       "      <th>x5_NoRidge</th>\n",
       "      <th>x5_NridgHt</th>\n",
       "      <th>x5_OldTown</th>\n",
       "      <th>x5_SWISU</th>\n",
       "      <th>x5_Sawyer</th>\n",
       "      <th>x5_SawyerW</th>\n",
       "      <th>x5_Somerst</th>\n",
       "      <th>x5_StoneBr</th>\n",
       "      <th>x5_Timber</th>\n",
       "      <th>x5_Veenker</th>\n",
       "    </tr>\n",
       "  </thead>\n",
       "  <tbody>\n",
       "    <tr>\n",
       "      <th>0</th>\n",
       "      <td>0.0</td>\n",
       "      <td>0.0</td>\n",
       "      <td>0.0</td>\n",
       "      <td>0.0</td>\n",
       "      <td>0.0</td>\n",
       "      <td>1.0</td>\n",
       "      <td>0.0</td>\n",
       "      <td>0.0</td>\n",
       "      <td>0.0</td>\n",
       "      <td>0.0</td>\n",
       "      <td>...</td>\n",
       "      <td>0.0</td>\n",
       "      <td>0.0</td>\n",
       "      <td>0.0</td>\n",
       "      <td>0.0</td>\n",
       "      <td>0.0</td>\n",
       "      <td>0.0</td>\n",
       "      <td>0.0</td>\n",
       "      <td>0.0</td>\n",
       "      <td>0.0</td>\n",
       "      <td>0.0</td>\n",
       "    </tr>\n",
       "    <tr>\n",
       "      <th>1</th>\n",
       "      <td>0.0</td>\n",
       "      <td>0.0</td>\n",
       "      <td>0.0</td>\n",
       "      <td>0.0</td>\n",
       "      <td>0.0</td>\n",
       "      <td>0.0</td>\n",
       "      <td>1.0</td>\n",
       "      <td>0.0</td>\n",
       "      <td>0.0</td>\n",
       "      <td>0.0</td>\n",
       "      <td>...</td>\n",
       "      <td>0.0</td>\n",
       "      <td>0.0</td>\n",
       "      <td>0.0</td>\n",
       "      <td>0.0</td>\n",
       "      <td>0.0</td>\n",
       "      <td>0.0</td>\n",
       "      <td>0.0</td>\n",
       "      <td>0.0</td>\n",
       "      <td>0.0</td>\n",
       "      <td>1.0</td>\n",
       "    </tr>\n",
       "    <tr>\n",
       "      <th>2</th>\n",
       "      <td>0.0</td>\n",
       "      <td>0.0</td>\n",
       "      <td>0.0</td>\n",
       "      <td>0.0</td>\n",
       "      <td>0.0</td>\n",
       "      <td>1.0</td>\n",
       "      <td>0.0</td>\n",
       "      <td>0.0</td>\n",
       "      <td>0.0</td>\n",
       "      <td>0.0</td>\n",
       "      <td>...</td>\n",
       "      <td>0.0</td>\n",
       "      <td>0.0</td>\n",
       "      <td>0.0</td>\n",
       "      <td>0.0</td>\n",
       "      <td>0.0</td>\n",
       "      <td>0.0</td>\n",
       "      <td>0.0</td>\n",
       "      <td>0.0</td>\n",
       "      <td>0.0</td>\n",
       "      <td>0.0</td>\n",
       "    </tr>\n",
       "    <tr>\n",
       "      <th>3</th>\n",
       "      <td>0.0</td>\n",
       "      <td>0.0</td>\n",
       "      <td>0.0</td>\n",
       "      <td>0.0</td>\n",
       "      <td>0.0</td>\n",
       "      <td>1.0</td>\n",
       "      <td>0.0</td>\n",
       "      <td>0.0</td>\n",
       "      <td>0.0</td>\n",
       "      <td>0.0</td>\n",
       "      <td>...</td>\n",
       "      <td>0.0</td>\n",
       "      <td>0.0</td>\n",
       "      <td>0.0</td>\n",
       "      <td>0.0</td>\n",
       "      <td>0.0</td>\n",
       "      <td>0.0</td>\n",
       "      <td>0.0</td>\n",
       "      <td>0.0</td>\n",
       "      <td>0.0</td>\n",
       "      <td>0.0</td>\n",
       "    </tr>\n",
       "    <tr>\n",
       "      <th>4</th>\n",
       "      <td>0.0</td>\n",
       "      <td>0.0</td>\n",
       "      <td>0.0</td>\n",
       "      <td>0.0</td>\n",
       "      <td>0.0</td>\n",
       "      <td>1.0</td>\n",
       "      <td>0.0</td>\n",
       "      <td>0.0</td>\n",
       "      <td>0.0</td>\n",
       "      <td>0.0</td>\n",
       "      <td>...</td>\n",
       "      <td>1.0</td>\n",
       "      <td>0.0</td>\n",
       "      <td>0.0</td>\n",
       "      <td>0.0</td>\n",
       "      <td>0.0</td>\n",
       "      <td>0.0</td>\n",
       "      <td>0.0</td>\n",
       "      <td>0.0</td>\n",
       "      <td>0.0</td>\n",
       "      <td>0.0</td>\n",
       "    </tr>\n",
       "  </tbody>\n",
       "</table>\n",
       "<p>5 rows × 44 columns</p>\n",
       "</div>"
      ],
      "text/plain": [
       "   x0_2fmCon  x0_Duplex  x0_Twnhs  x0_TwnhsE  x1_Fa  x1_Gd  x1_TA  x2_CWD  \\\n",
       "0        0.0        0.0       0.0        0.0    0.0    1.0    0.0     0.0   \n",
       "1        0.0        0.0       0.0        0.0    0.0    0.0    1.0     0.0   \n",
       "2        0.0        0.0       0.0        0.0    0.0    1.0    0.0     0.0   \n",
       "3        0.0        0.0       0.0        0.0    0.0    1.0    0.0     0.0   \n",
       "4        0.0        0.0       0.0        0.0    0.0    1.0    0.0     0.0   \n",
       "\n",
       "   x2_Con  x2_ConLD  ...  x5_NoRidge  x5_NridgHt  x5_OldTown  x5_SWISU  \\\n",
       "0     0.0       0.0  ...         0.0         0.0         0.0       0.0   \n",
       "1     0.0       0.0  ...         0.0         0.0         0.0       0.0   \n",
       "2     0.0       0.0  ...         0.0         0.0         0.0       0.0   \n",
       "3     0.0       0.0  ...         0.0         0.0         0.0       0.0   \n",
       "4     0.0       0.0  ...         1.0         0.0         0.0       0.0   \n",
       "\n",
       "   x5_Sawyer  x5_SawyerW  x5_Somerst  x5_StoneBr  x5_Timber  x5_Veenker  \n",
       "0        0.0         0.0         0.0         0.0        0.0         0.0  \n",
       "1        0.0         0.0         0.0         0.0        0.0         1.0  \n",
       "2        0.0         0.0         0.0         0.0        0.0         0.0  \n",
       "3        0.0         0.0         0.0         0.0        0.0         0.0  \n",
       "4        0.0         0.0         0.0         0.0        0.0         0.0  \n",
       "\n",
       "[5 rows x 44 columns]"
      ]
     },
     "execution_count": 10,
     "metadata": {},
     "output_type": "execute_result"
    }
   ],
   "source": [
    "ohe_df.head()"
   ]
  },
  {
   "cell_type": "markdown",
   "metadata": {},
   "source": [
    "## Combine Categorical and Continuous Features"
   ]
  },
  {
   "cell_type": "code",
   "execution_count": 11,
   "metadata": {},
   "outputs": [
    {
     "data": {
      "text/html": [
       "<div>\n",
       "<style scoped>\n",
       "    .dataframe tbody tr th:only-of-type {\n",
       "        vertical-align: middle;\n",
       "    }\n",
       "\n",
       "    .dataframe tbody tr th {\n",
       "        vertical-align: top;\n",
       "    }\n",
       "\n",
       "    .dataframe thead th {\n",
       "        text-align: right;\n",
       "    }\n",
       "</style>\n",
       "<table border=\"1\" class=\"dataframe\">\n",
       "  <thead>\n",
       "    <tr style=\"text-align: right;\">\n",
       "      <th></th>\n",
       "      <th>LotArea</th>\n",
       "      <th>1stFlrSF</th>\n",
       "      <th>GrLivArea</th>\n",
       "      <th>SalePrice</th>\n",
       "      <th>x0_2fmCon</th>\n",
       "      <th>x0_Duplex</th>\n",
       "      <th>x0_Twnhs</th>\n",
       "      <th>x0_TwnhsE</th>\n",
       "      <th>x1_Fa</th>\n",
       "      <th>x1_Gd</th>\n",
       "      <th>...</th>\n",
       "      <th>x5_NoRidge</th>\n",
       "      <th>x5_NridgHt</th>\n",
       "      <th>x5_OldTown</th>\n",
       "      <th>x5_SWISU</th>\n",
       "      <th>x5_Sawyer</th>\n",
       "      <th>x5_SawyerW</th>\n",
       "      <th>x5_Somerst</th>\n",
       "      <th>x5_StoneBr</th>\n",
       "      <th>x5_Timber</th>\n",
       "      <th>x5_Veenker</th>\n",
       "    </tr>\n",
       "  </thead>\n",
       "  <tbody>\n",
       "    <tr>\n",
       "      <th>0</th>\n",
       "      <td>-0.133231</td>\n",
       "      <td>-0.803570</td>\n",
       "      <td>0.529260</td>\n",
       "      <td>0.560068</td>\n",
       "      <td>0.0</td>\n",
       "      <td>0.0</td>\n",
       "      <td>0.0</td>\n",
       "      <td>0.0</td>\n",
       "      <td>0.0</td>\n",
       "      <td>1.0</td>\n",
       "      <td>...</td>\n",
       "      <td>0.0</td>\n",
       "      <td>0.0</td>\n",
       "      <td>0.0</td>\n",
       "      <td>0.0</td>\n",
       "      <td>0.0</td>\n",
       "      <td>0.0</td>\n",
       "      <td>0.0</td>\n",
       "      <td>0.0</td>\n",
       "      <td>0.0</td>\n",
       "      <td>0.0</td>\n",
       "    </tr>\n",
       "    <tr>\n",
       "      <th>1</th>\n",
       "      <td>0.113442</td>\n",
       "      <td>0.418585</td>\n",
       "      <td>-0.381846</td>\n",
       "      <td>0.212764</td>\n",
       "      <td>0.0</td>\n",
       "      <td>0.0</td>\n",
       "      <td>0.0</td>\n",
       "      <td>0.0</td>\n",
       "      <td>0.0</td>\n",
       "      <td>0.0</td>\n",
       "      <td>...</td>\n",
       "      <td>0.0</td>\n",
       "      <td>0.0</td>\n",
       "      <td>0.0</td>\n",
       "      <td>0.0</td>\n",
       "      <td>0.0</td>\n",
       "      <td>0.0</td>\n",
       "      <td>0.0</td>\n",
       "      <td>0.0</td>\n",
       "      <td>0.0</td>\n",
       "      <td>1.0</td>\n",
       "    </tr>\n",
       "    <tr>\n",
       "      <th>2</th>\n",
       "      <td>0.420061</td>\n",
       "      <td>-0.576560</td>\n",
       "      <td>0.659675</td>\n",
       "      <td>0.734046</td>\n",
       "      <td>0.0</td>\n",
       "      <td>0.0</td>\n",
       "      <td>0.0</td>\n",
       "      <td>0.0</td>\n",
       "      <td>0.0</td>\n",
       "      <td>1.0</td>\n",
       "      <td>...</td>\n",
       "      <td>0.0</td>\n",
       "      <td>0.0</td>\n",
       "      <td>0.0</td>\n",
       "      <td>0.0</td>\n",
       "      <td>0.0</td>\n",
       "      <td>0.0</td>\n",
       "      <td>0.0</td>\n",
       "      <td>0.0</td>\n",
       "      <td>0.0</td>\n",
       "      <td>0.0</td>\n",
       "    </tr>\n",
       "    <tr>\n",
       "      <th>3</th>\n",
       "      <td>0.103347</td>\n",
       "      <td>-0.439287</td>\n",
       "      <td>0.541511</td>\n",
       "      <td>-0.437382</td>\n",
       "      <td>0.0</td>\n",
       "      <td>0.0</td>\n",
       "      <td>0.0</td>\n",
       "      <td>0.0</td>\n",
       "      <td>0.0</td>\n",
       "      <td>1.0</td>\n",
       "      <td>...</td>\n",
       "      <td>0.0</td>\n",
       "      <td>0.0</td>\n",
       "      <td>0.0</td>\n",
       "      <td>0.0</td>\n",
       "      <td>0.0</td>\n",
       "      <td>0.0</td>\n",
       "      <td>0.0</td>\n",
       "      <td>0.0</td>\n",
       "      <td>0.0</td>\n",
       "      <td>0.0</td>\n",
       "    </tr>\n",
       "    <tr>\n",
       "      <th>4</th>\n",
       "      <td>0.878409</td>\n",
       "      <td>0.112267</td>\n",
       "      <td>1.282191</td>\n",
       "      <td>1.014651</td>\n",
       "      <td>0.0</td>\n",
       "      <td>0.0</td>\n",
       "      <td>0.0</td>\n",
       "      <td>0.0</td>\n",
       "      <td>0.0</td>\n",
       "      <td>1.0</td>\n",
       "      <td>...</td>\n",
       "      <td>1.0</td>\n",
       "      <td>0.0</td>\n",
       "      <td>0.0</td>\n",
       "      <td>0.0</td>\n",
       "      <td>0.0</td>\n",
       "      <td>0.0</td>\n",
       "      <td>0.0</td>\n",
       "      <td>0.0</td>\n",
       "      <td>0.0</td>\n",
       "      <td>0.0</td>\n",
       "    </tr>\n",
       "  </tbody>\n",
       "</table>\n",
       "<p>5 rows × 48 columns</p>\n",
       "</div>"
      ],
      "text/plain": [
       "    LotArea  1stFlrSF  GrLivArea  SalePrice  x0_2fmCon  x0_Duplex  x0_Twnhs  \\\n",
       "0 -0.133231 -0.803570   0.529260   0.560068        0.0        0.0       0.0   \n",
       "1  0.113442  0.418585  -0.381846   0.212764        0.0        0.0       0.0   \n",
       "2  0.420061 -0.576560   0.659675   0.734046        0.0        0.0       0.0   \n",
       "3  0.103347 -0.439287   0.541511  -0.437382        0.0        0.0       0.0   \n",
       "4  0.878409  0.112267   1.282191   1.014651        0.0        0.0       0.0   \n",
       "\n",
       "   x0_TwnhsE  x1_Fa  x1_Gd  ...  x5_NoRidge  x5_NridgHt  x5_OldTown  x5_SWISU  \\\n",
       "0        0.0    0.0    1.0  ...         0.0         0.0         0.0       0.0   \n",
       "1        0.0    0.0    0.0  ...         0.0         0.0         0.0       0.0   \n",
       "2        0.0    0.0    1.0  ...         0.0         0.0         0.0       0.0   \n",
       "3        0.0    0.0    1.0  ...         0.0         0.0         0.0       0.0   \n",
       "4        0.0    0.0    1.0  ...         1.0         0.0         0.0       0.0   \n",
       "\n",
       "   x5_Sawyer  x5_SawyerW  x5_Somerst  x5_StoneBr  x5_Timber  x5_Veenker  \n",
       "0        0.0         0.0         0.0         0.0        0.0         0.0  \n",
       "1        0.0         0.0         0.0         0.0        0.0         1.0  \n",
       "2        0.0         0.0         0.0         0.0        0.0         0.0  \n",
       "3        0.0         0.0         0.0         0.0        0.0         0.0  \n",
       "4        0.0         0.0         0.0         0.0        0.0         0.0  \n",
       "\n",
       "[5 rows x 48 columns]"
      ]
     },
     "execution_count": 11,
     "metadata": {},
     "output_type": "execute_result"
    }
   ],
   "source": [
    "# combine features into a single dataframe called preprocessed\n",
    "preprocessed = log_std.join(ohe_df)\n",
    "preprocessed.head()"
   ]
  },
  {
   "cell_type": "markdown",
   "metadata": {},
   "source": [
    "## Run a linear model with SalePrice as the target variable in statsmodels"
   ]
  },
  {
   "cell_type": "code",
   "execution_count": 12,
   "metadata": {},
   "outputs": [
    {
     "name": "stderr",
     "output_type": "stream",
     "text": [
      "/Users/carrie/opt/anaconda3/envs/learn-env/lib/python3.6/site-packages/statsmodels/tools/_testing.py:19: FutureWarning: pandas.util.testing is deprecated. Use the functions in the public API at pandas.testing instead.\n",
      "  import pandas.util.testing as tm\n"
     ]
    },
    {
     "data": {
      "text/html": [
       "<table class=\"simpletable\">\n",
       "<caption>OLS Regression Results</caption>\n",
       "<tr>\n",
       "  <th>Dep. Variable:</th>        <td>SalePrice</td>    <th>  R-squared:         </th> <td>   0.839</td>\n",
       "</tr>\n",
       "<tr>\n",
       "  <th>Model:</th>                   <td>OLS</td>       <th>  Adj. R-squared:    </th> <td>   0.834</td>\n",
       "</tr>\n",
       "<tr>\n",
       "  <th>Method:</th>             <td>Least Squares</td>  <th>  F-statistic:       </th> <td>   156.5</td>\n",
       "</tr>\n",
       "<tr>\n",
       "  <th>Date:</th>             <td>Tue, 24 Aug 2021</td> <th>  Prob (F-statistic):</th>  <td>  0.00</td> \n",
       "</tr>\n",
       "<tr>\n",
       "  <th>Time:</th>                 <td>15:29:04</td>     <th>  Log-Likelihood:    </th> <td> -738.64</td>\n",
       "</tr>\n",
       "<tr>\n",
       "  <th>No. Observations:</th>      <td>  1460</td>      <th>  AIC:               </th> <td>   1573.</td>\n",
       "</tr>\n",
       "<tr>\n",
       "  <th>Df Residuals:</th>          <td>  1412</td>      <th>  BIC:               </th> <td>   1827.</td>\n",
       "</tr>\n",
       "<tr>\n",
       "  <th>Df Model:</th>              <td>    47</td>      <th>                     </th>     <td> </td>   \n",
       "</tr>\n",
       "<tr>\n",
       "  <th>Covariance Type:</th>      <td>nonrobust</td>    <th>                     </th>     <td> </td>   \n",
       "</tr>\n",
       "</table>\n",
       "<table class=\"simpletable\">\n",
       "<tr>\n",
       "       <td></td>         <th>coef</th>     <th>std err</th>      <th>t</th>      <th>P>|t|</th>  <th>[0.025</th>    <th>0.975]</th>  \n",
       "</tr>\n",
       "<tr>\n",
       "  <th>const</th>      <td>   -0.1317</td> <td>    0.263</td> <td>   -0.500</td> <td> 0.617</td> <td>   -0.648</td> <td>    0.385</td>\n",
       "</tr>\n",
       "<tr>\n",
       "  <th>LotArea</th>    <td>    0.1033</td> <td>    0.019</td> <td>    5.475</td> <td> 0.000</td> <td>    0.066</td> <td>    0.140</td>\n",
       "</tr>\n",
       "<tr>\n",
       "  <th>1stFlrSF</th>   <td>    0.1371</td> <td>    0.016</td> <td>    8.584</td> <td> 0.000</td> <td>    0.106</td> <td>    0.168</td>\n",
       "</tr>\n",
       "<tr>\n",
       "  <th>GrLivArea</th>  <td>    0.3768</td> <td>    0.016</td> <td>   24.114</td> <td> 0.000</td> <td>    0.346</td> <td>    0.407</td>\n",
       "</tr>\n",
       "<tr>\n",
       "  <th>x0_2fmCon</th>  <td>   -0.1715</td> <td>    0.079</td> <td>   -2.173</td> <td> 0.030</td> <td>   -0.326</td> <td>   -0.017</td>\n",
       "</tr>\n",
       "<tr>\n",
       "  <th>x0_Duplex</th>  <td>   -0.4205</td> <td>    0.062</td> <td>   -6.813</td> <td> 0.000</td> <td>   -0.542</td> <td>   -0.299</td>\n",
       "</tr>\n",
       "<tr>\n",
       "  <th>x0_Twnhs</th>   <td>   -0.1404</td> <td>    0.093</td> <td>   -1.513</td> <td> 0.130</td> <td>   -0.322</td> <td>    0.042</td>\n",
       "</tr>\n",
       "<tr>\n",
       "  <th>x0_TwnhsE</th>  <td>   -0.0512</td> <td>    0.060</td> <td>   -0.858</td> <td> 0.391</td> <td>   -0.168</td> <td>    0.066</td>\n",
       "</tr>\n",
       "<tr>\n",
       "  <th>x1_Fa</th>      <td>   -1.0002</td> <td>    0.088</td> <td>  -11.315</td> <td> 0.000</td> <td>   -1.174</td> <td>   -0.827</td>\n",
       "</tr>\n",
       "<tr>\n",
       "  <th>x1_Gd</th>      <td>   -0.3822</td> <td>    0.050</td> <td>   -7.613</td> <td> 0.000</td> <td>   -0.481</td> <td>   -0.284</td>\n",
       "</tr>\n",
       "<tr>\n",
       "  <th>x1_TA</th>      <td>   -0.6695</td> <td>    0.055</td> <td>  -12.111</td> <td> 0.000</td> <td>   -0.778</td> <td>   -0.561</td>\n",
       "</tr>\n",
       "<tr>\n",
       "  <th>x2_CWD</th>     <td>    0.2286</td> <td>    0.215</td> <td>    1.061</td> <td> 0.289</td> <td>   -0.194</td> <td>    0.651</td>\n",
       "</tr>\n",
       "<tr>\n",
       "  <th>x2_Con</th>     <td>    0.5863</td> <td>    0.304</td> <td>    1.927</td> <td> 0.054</td> <td>   -0.010</td> <td>    1.183</td>\n",
       "</tr>\n",
       "<tr>\n",
       "  <th>x2_ConLD</th>   <td>    0.3152</td> <td>    0.155</td> <td>    2.029</td> <td> 0.043</td> <td>    0.010</td> <td>    0.620</td>\n",
       "</tr>\n",
       "<tr>\n",
       "  <th>x2_ConLI</th>   <td>    0.0331</td> <td>    0.195</td> <td>    0.169</td> <td> 0.865</td> <td>   -0.350</td> <td>    0.416</td>\n",
       "</tr>\n",
       "<tr>\n",
       "  <th>x2_ConLw</th>   <td>    0.0161</td> <td>    0.196</td> <td>    0.082</td> <td> 0.935</td> <td>   -0.368</td> <td>    0.400</td>\n",
       "</tr>\n",
       "<tr>\n",
       "  <th>x2_New</th>     <td>    0.3000</td> <td>    0.079</td> <td>    3.803</td> <td> 0.000</td> <td>    0.145</td> <td>    0.455</td>\n",
       "</tr>\n",
       "<tr>\n",
       "  <th>x2_Oth</th>     <td>    0.1179</td> <td>    0.246</td> <td>    0.480</td> <td> 0.631</td> <td>   -0.364</td> <td>    0.599</td>\n",
       "</tr>\n",
       "<tr>\n",
       "  <th>x2_WD</th>      <td>    0.1749</td> <td>    0.065</td> <td>    2.676</td> <td> 0.008</td> <td>    0.047</td> <td>    0.303</td>\n",
       "</tr>\n",
       "<tr>\n",
       "  <th>x3_FV</th>      <td>    1.0670</td> <td>    0.193</td> <td>    5.526</td> <td> 0.000</td> <td>    0.688</td> <td>    1.446</td>\n",
       "</tr>\n",
       "<tr>\n",
       "  <th>x3_RH</th>      <td>    0.8771</td> <td>    0.194</td> <td>    4.512</td> <td> 0.000</td> <td>    0.496</td> <td>    1.258</td>\n",
       "</tr>\n",
       "<tr>\n",
       "  <th>x3_RL</th>      <td>    0.9964</td> <td>    0.162</td> <td>    6.151</td> <td> 0.000</td> <td>    0.679</td> <td>    1.314</td>\n",
       "</tr>\n",
       "<tr>\n",
       "  <th>x3_RM</th>      <td>    1.1027</td> <td>    0.152</td> <td>    7.264</td> <td> 0.000</td> <td>    0.805</td> <td>    1.400</td>\n",
       "</tr>\n",
       "<tr>\n",
       "  <th>x4_Pave</th>    <td>   -0.2132</td> <td>    0.180</td> <td>   -1.182</td> <td> 0.237</td> <td>   -0.567</td> <td>    0.141</td>\n",
       "</tr>\n",
       "<tr>\n",
       "  <th>x5_Blueste</th> <td>    0.0530</td> <td>    0.318</td> <td>    0.167</td> <td> 0.868</td> <td>   -0.571</td> <td>    0.677</td>\n",
       "</tr>\n",
       "<tr>\n",
       "  <th>x5_BrDale</th>  <td>   -0.4629</td> <td>    0.171</td> <td>   -2.711</td> <td> 0.007</td> <td>   -0.798</td> <td>   -0.128</td>\n",
       "</tr>\n",
       "<tr>\n",
       "  <th>x5_BrkSide</th> <td>   -0.6500</td> <td>    0.137</td> <td>   -4.735</td> <td> 0.000</td> <td>   -0.919</td> <td>   -0.381</td>\n",
       "</tr>\n",
       "<tr>\n",
       "  <th>x5_ClearCr</th> <td>   -0.2103</td> <td>    0.144</td> <td>   -1.456</td> <td> 0.146</td> <td>   -0.494</td> <td>    0.073</td>\n",
       "</tr>\n",
       "<tr>\n",
       "  <th>x5_CollgCr</th> <td>   -0.0761</td> <td>    0.119</td> <td>   -0.641</td> <td> 0.522</td> <td>   -0.309</td> <td>    0.157</td>\n",
       "</tr>\n",
       "<tr>\n",
       "  <th>x5_Crawfor</th> <td>   -0.0824</td> <td>    0.129</td> <td>   -0.638</td> <td> 0.523</td> <td>   -0.336</td> <td>    0.171</td>\n",
       "</tr>\n",
       "<tr>\n",
       "  <th>x5_Edwards</th> <td>   -0.7615</td> <td>    0.124</td> <td>   -6.143</td> <td> 0.000</td> <td>   -1.005</td> <td>   -0.518</td>\n",
       "</tr>\n",
       "<tr>\n",
       "  <th>x5_Gilbert</th> <td>   -0.0980</td> <td>    0.126</td> <td>   -0.777</td> <td> 0.437</td> <td>   -0.346</td> <td>    0.150</td>\n",
       "</tr>\n",
       "<tr>\n",
       "  <th>x5_IDOTRR</th>  <td>   -0.9622</td> <td>    0.160</td> <td>   -6.014</td> <td> 0.000</td> <td>   -1.276</td> <td>   -0.648</td>\n",
       "</tr>\n",
       "<tr>\n",
       "  <th>x5_MeadowV</th> <td>   -0.6921</td> <td>    0.159</td> <td>   -4.351</td> <td> 0.000</td> <td>   -1.004</td> <td>   -0.380</td>\n",
       "</tr>\n",
       "<tr>\n",
       "  <th>x5_Mitchel</th> <td>   -0.2554</td> <td>    0.131</td> <td>   -1.944</td> <td> 0.052</td> <td>   -0.513</td> <td>    0.002</td>\n",
       "</tr>\n",
       "<tr>\n",
       "  <th>x5_NAmes</th>   <td>   -0.4408</td> <td>    0.120</td> <td>   -3.664</td> <td> 0.000</td> <td>   -0.677</td> <td>   -0.205</td>\n",
       "</tr>\n",
       "<tr>\n",
       "  <th>x5_NPkVill</th> <td>   -0.0160</td> <td>    0.173</td> <td>   -0.092</td> <td> 0.927</td> <td>   -0.356</td> <td>    0.324</td>\n",
       "</tr>\n",
       "<tr>\n",
       "  <th>x5_NWAmes</th>  <td>   -0.2677</td> <td>    0.126</td> <td>   -2.122</td> <td> 0.034</td> <td>   -0.515</td> <td>   -0.020</td>\n",
       "</tr>\n",
       "<tr>\n",
       "  <th>x5_NoRidge</th> <td>    0.3633</td> <td>    0.133</td> <td>    2.737</td> <td> 0.006</td> <td>    0.103</td> <td>    0.624</td>\n",
       "</tr>\n",
       "<tr>\n",
       "  <th>x5_NridgHt</th> <td>    0.3627</td> <td>    0.120</td> <td>    3.029</td> <td> 0.002</td> <td>    0.128</td> <td>    0.598</td>\n",
       "</tr>\n",
       "<tr>\n",
       "  <th>x5_OldTown</th> <td>   -0.9354</td> <td>    0.140</td> <td>   -6.686</td> <td> 0.000</td> <td>   -1.210</td> <td>   -0.661</td>\n",
       "</tr>\n",
       "<tr>\n",
       "  <th>x5_SWISU</th>   <td>   -0.7000</td> <td>    0.144</td> <td>   -4.845</td> <td> 0.000</td> <td>   -0.983</td> <td>   -0.417</td>\n",
       "</tr>\n",
       "<tr>\n",
       "  <th>x5_Sawyer</th>  <td>   -0.4756</td> <td>    0.128</td> <td>   -3.727</td> <td> 0.000</td> <td>   -0.726</td> <td>   -0.225</td>\n",
       "</tr>\n",
       "<tr>\n",
       "  <th>x5_SawyerW</th> <td>   -0.2332</td> <td>    0.125</td> <td>   -1.860</td> <td> 0.063</td> <td>   -0.479</td> <td>    0.013</td>\n",
       "</tr>\n",
       "<tr>\n",
       "  <th>x5_Somerst</th> <td>    0.0951</td> <td>    0.145</td> <td>    0.658</td> <td> 0.511</td> <td>   -0.188</td> <td>    0.379</td>\n",
       "</tr>\n",
       "<tr>\n",
       "  <th>x5_StoneBr</th> <td>    0.4297</td> <td>    0.133</td> <td>    3.232</td> <td> 0.001</td> <td>    0.169</td> <td>    0.691</td>\n",
       "</tr>\n",
       "<tr>\n",
       "  <th>x5_Timber</th>  <td>    0.0057</td> <td>    0.134</td> <td>    0.042</td> <td> 0.966</td> <td>   -0.257</td> <td>    0.269</td>\n",
       "</tr>\n",
       "<tr>\n",
       "  <th>x5_Veenker</th> <td>    0.1277</td> <td>    0.169</td> <td>    0.754</td> <td> 0.451</td> <td>   -0.204</td> <td>    0.460</td>\n",
       "</tr>\n",
       "</table>\n",
       "<table class=\"simpletable\">\n",
       "<tr>\n",
       "  <th>Omnibus:</th>       <td>289.988</td> <th>  Durbin-Watson:     </th> <td>   1.967</td> \n",
       "</tr>\n",
       "<tr>\n",
       "  <th>Prob(Omnibus):</th> <td> 0.000</td>  <th>  Jarque-Bera (JB):  </th> <td>1242.992</td> \n",
       "</tr>\n",
       "<tr>\n",
       "  <th>Skew:</th>          <td>-0.886</td>  <th>  Prob(JB):          </th> <td>1.22e-270</td>\n",
       "</tr>\n",
       "<tr>\n",
       "  <th>Kurtosis:</th>      <td> 7.159</td>  <th>  Cond. No.          </th> <td>    109.</td> \n",
       "</tr>\n",
       "</table><br/><br/>Warnings:<br/>[1] Standard Errors assume that the covariance matrix of the errors is correctly specified."
      ],
      "text/plain": [
       "<class 'statsmodels.iolib.summary.Summary'>\n",
       "\"\"\"\n",
       "                            OLS Regression Results                            \n",
       "==============================================================================\n",
       "Dep. Variable:              SalePrice   R-squared:                       0.839\n",
       "Model:                            OLS   Adj. R-squared:                  0.834\n",
       "Method:                 Least Squares   F-statistic:                     156.5\n",
       "Date:                Tue, 24 Aug 2021   Prob (F-statistic):               0.00\n",
       "Time:                        15:29:04   Log-Likelihood:                -738.64\n",
       "No. Observations:                1460   AIC:                             1573.\n",
       "Df Residuals:                    1412   BIC:                             1827.\n",
       "Df Model:                          47                                         \n",
       "Covariance Type:            nonrobust                                         \n",
       "==============================================================================\n",
       "                 coef    std err          t      P>|t|      [0.025      0.975]\n",
       "------------------------------------------------------------------------------\n",
       "const         -0.1317      0.263     -0.500      0.617      -0.648       0.385\n",
       "LotArea        0.1033      0.019      5.475      0.000       0.066       0.140\n",
       "1stFlrSF       0.1371      0.016      8.584      0.000       0.106       0.168\n",
       "GrLivArea      0.3768      0.016     24.114      0.000       0.346       0.407\n",
       "x0_2fmCon     -0.1715      0.079     -2.173      0.030      -0.326      -0.017\n",
       "x0_Duplex     -0.4205      0.062     -6.813      0.000      -0.542      -0.299\n",
       "x0_Twnhs      -0.1404      0.093     -1.513      0.130      -0.322       0.042\n",
       "x0_TwnhsE     -0.0512      0.060     -0.858      0.391      -0.168       0.066\n",
       "x1_Fa         -1.0002      0.088    -11.315      0.000      -1.174      -0.827\n",
       "x1_Gd         -0.3822      0.050     -7.613      0.000      -0.481      -0.284\n",
       "x1_TA         -0.6695      0.055    -12.111      0.000      -0.778      -0.561\n",
       "x2_CWD         0.2286      0.215      1.061      0.289      -0.194       0.651\n",
       "x2_Con         0.5863      0.304      1.927      0.054      -0.010       1.183\n",
       "x2_ConLD       0.3152      0.155      2.029      0.043       0.010       0.620\n",
       "x2_ConLI       0.0331      0.195      0.169      0.865      -0.350       0.416\n",
       "x2_ConLw       0.0161      0.196      0.082      0.935      -0.368       0.400\n",
       "x2_New         0.3000      0.079      3.803      0.000       0.145       0.455\n",
       "x2_Oth         0.1179      0.246      0.480      0.631      -0.364       0.599\n",
       "x2_WD          0.1749      0.065      2.676      0.008       0.047       0.303\n",
       "x3_FV          1.0670      0.193      5.526      0.000       0.688       1.446\n",
       "x3_RH          0.8771      0.194      4.512      0.000       0.496       1.258\n",
       "x3_RL          0.9964      0.162      6.151      0.000       0.679       1.314\n",
       "x3_RM          1.1027      0.152      7.264      0.000       0.805       1.400\n",
       "x4_Pave       -0.2132      0.180     -1.182      0.237      -0.567       0.141\n",
       "x5_Blueste     0.0530      0.318      0.167      0.868      -0.571       0.677\n",
       "x5_BrDale     -0.4629      0.171     -2.711      0.007      -0.798      -0.128\n",
       "x5_BrkSide    -0.6500      0.137     -4.735      0.000      -0.919      -0.381\n",
       "x5_ClearCr    -0.2103      0.144     -1.456      0.146      -0.494       0.073\n",
       "x5_CollgCr    -0.0761      0.119     -0.641      0.522      -0.309       0.157\n",
       "x5_Crawfor    -0.0824      0.129     -0.638      0.523      -0.336       0.171\n",
       "x5_Edwards    -0.7615      0.124     -6.143      0.000      -1.005      -0.518\n",
       "x5_Gilbert    -0.0980      0.126     -0.777      0.437      -0.346       0.150\n",
       "x5_IDOTRR     -0.9622      0.160     -6.014      0.000      -1.276      -0.648\n",
       "x5_MeadowV    -0.6921      0.159     -4.351      0.000      -1.004      -0.380\n",
       "x5_Mitchel    -0.2554      0.131     -1.944      0.052      -0.513       0.002\n",
       "x5_NAmes      -0.4408      0.120     -3.664      0.000      -0.677      -0.205\n",
       "x5_NPkVill    -0.0160      0.173     -0.092      0.927      -0.356       0.324\n",
       "x5_NWAmes     -0.2677      0.126     -2.122      0.034      -0.515      -0.020\n",
       "x5_NoRidge     0.3633      0.133      2.737      0.006       0.103       0.624\n",
       "x5_NridgHt     0.3627      0.120      3.029      0.002       0.128       0.598\n",
       "x5_OldTown    -0.9354      0.140     -6.686      0.000      -1.210      -0.661\n",
       "x5_SWISU      -0.7000      0.144     -4.845      0.000      -0.983      -0.417\n",
       "x5_Sawyer     -0.4756      0.128     -3.727      0.000      -0.726      -0.225\n",
       "x5_SawyerW    -0.2332      0.125     -1.860      0.063      -0.479       0.013\n",
       "x5_Somerst     0.0951      0.145      0.658      0.511      -0.188       0.379\n",
       "x5_StoneBr     0.4297      0.133      3.232      0.001       0.169       0.691\n",
       "x5_Timber      0.0057      0.134      0.042      0.966      -0.257       0.269\n",
       "x5_Veenker     0.1277      0.169      0.754      0.451      -0.204       0.460\n",
       "==============================================================================\n",
       "Omnibus:                      289.988   Durbin-Watson:                   1.967\n",
       "Prob(Omnibus):                  0.000   Jarque-Bera (JB):             1242.992\n",
       "Skew:                          -0.886   Prob(JB):                    1.22e-270\n",
       "Kurtosis:                       7.159   Cond. No.                         109.\n",
       "==============================================================================\n",
       "\n",
       "Warnings:\n",
       "[1] Standard Errors assume that the covariance matrix of the errors is correctly specified.\n",
       "\"\"\""
      ]
     },
     "execution_count": 12,
     "metadata": {},
     "output_type": "execute_result"
    }
   ],
   "source": [
    "import statsmodels.api as sm\n",
    "\n",
    "X = preprocessed.drop(columns = 'SalePrice')\n",
    "y = preprocessed['SalePrice']\n",
    "X_intercept = sm.add_constant(X)\n",
    "\n",
    "model = sm.OLS(y,X_intercept).fit()\n",
    "model.summary()"
   ]
  },
  {
   "cell_type": "markdown",
   "metadata": {},
   "source": [
    "## Run the same model in scikit-learn"
   ]
  },
  {
   "cell_type": "code",
   "execution_count": 13,
   "metadata": {},
   "outputs": [
    {
     "data": {
      "text/plain": [
       "LinearRegression(copy_X=True, fit_intercept=True, n_jobs=None, normalize=False)"
      ]
     },
     "execution_count": 13,
     "metadata": {},
     "output_type": "execute_result"
    }
   ],
   "source": [
    "# Check that the coefficients and intercept are the same as those from Statsmodels\n",
    "\n",
    "from sklearn.linear_model import LinearRegression\n",
    "linreg = LinearRegression()\n",
    "linreg.fit(X, y)"
   ]
  },
  {
   "cell_type": "code",
   "execution_count": 14,
   "metadata": {},
   "outputs": [
    {
     "data": {
      "text/plain": [
       "array([ 0.10327192,  0.1371289 ,  0.37682133, -0.17152105, -0.42048287,\n",
       "       -0.14038921, -0.05121949, -1.00020261, -0.38215288, -0.6694784 ,\n",
       "        0.22855565,  0.58627941,  0.31521364,  0.03310544,  0.01609215,\n",
       "        0.29995612,  0.1178827 ,  0.17486316,  1.06700108,  0.8771105 ,\n",
       "        0.99643261,  1.10266268, -0.21318409,  0.0529509 , -0.46287108,\n",
       "       -0.65004527, -0.21026441, -0.0761186 , -0.08236455, -0.76152767,\n",
       "       -0.09803299, -0.96216285, -0.6920628 , -0.25540919, -0.4408245 ,\n",
       "       -0.01595592, -0.26772132,  0.36325607,  0.36272091, -0.93537011,\n",
       "       -0.70000301, -0.47559431, -0.23317719,  0.09506225,  0.42971796,\n",
       "        0.00569435,  0.12766986])"
      ]
     },
     "execution_count": 14,
     "metadata": {},
     "output_type": "execute_result"
    }
   ],
   "source": [
    "# coefficients\n",
    "linreg.coef_"
   ]
  },
  {
   "cell_type": "code",
   "execution_count": 15,
   "metadata": {},
   "outputs": [
    {
     "data": {
      "text/plain": [
       "-0.1317424941874434"
      ]
     },
     "execution_count": 15,
     "metadata": {},
     "output_type": "execute_result"
    }
   ],
   "source": [
    "# intercept\n",
    "linreg.intercept_"
   ]
  },
  {
   "cell_type": "markdown",
   "metadata": {},
   "source": [
    "## Predict the house price given the following characteristics (before manipulation!!)\n",
    "\n",
    "Make sure to transform your variables as needed!\n",
    "\n",
    "- LotArea: 14977\n",
    "- 1stFlrSF: 1976\n",
    "- GrLivArea: 1976\n",
    "- BldgType: 1Fam\n",
    "- KitchenQual: Gd\n",
    "- SaleType: New\n",
    "- MSZoning: RL\n",
    "- Street: Pave\n",
    "- Neighborhood: NridgHt"
   ]
  },
  {
   "cell_type": "code",
   "execution_count": 16,
   "metadata": {},
   "outputs": [
    {
     "data": {
      "text/plain": [
       "['LotArea', '1stFlrSF', 'GrLivArea', 'SalePrice']"
      ]
     },
     "execution_count": 16,
     "metadata": {},
     "output_type": "execute_result"
    }
   ],
   "source": [
    "continuous"
   ]
  },
  {
   "cell_type": "code",
   "execution_count": 17,
   "metadata": {},
   "outputs": [
    {
     "data": {
      "text/html": [
       "<div>\n",
       "<style scoped>\n",
       "    .dataframe tbody tr th:only-of-type {\n",
       "        vertical-align: middle;\n",
       "    }\n",
       "\n",
       "    .dataframe tbody tr th {\n",
       "        vertical-align: top;\n",
       "    }\n",
       "\n",
       "    .dataframe thead th {\n",
       "        text-align: right;\n",
       "    }\n",
       "</style>\n",
       "<table border=\"1\" class=\"dataframe\">\n",
       "  <thead>\n",
       "    <tr style=\"text-align: right;\">\n",
       "      <th></th>\n",
       "      <th>LotArea</th>\n",
       "      <th>1stFlrSF</th>\n",
       "      <th>GrLivArea</th>\n",
       "      <th>SalePrice</th>\n",
       "    </tr>\n",
       "  </thead>\n",
       "  <tbody>\n",
       "    <tr>\n",
       "      <th>0</th>\n",
       "      <td>14977</td>\n",
       "      <td>1976</td>\n",
       "      <td>1976</td>\n",
       "      <td>0.1</td>\n",
       "    </tr>\n",
       "  </tbody>\n",
       "</table>\n",
       "</div>"
      ],
      "text/plain": [
       "   LotArea  1stFlrSF  GrLivArea  SalePrice\n",
       "0    14977      1976       1976        0.1"
      ]
     },
     "execution_count": 17,
     "metadata": {},
     "output_type": "execute_result"
    }
   ],
   "source": [
    "cont_test = pd.DataFrame({'LotArea': [14977],\n",
    "                          '1stFlrSF': [1976],\n",
    "                          'GrLivArea': [1976],\n",
    "                          'SalePrice':[0.1] #cannot take log on zero\n",
    "    \n",
    "})\n",
    "cont_test"
   ]
  },
  {
   "cell_type": "code",
   "execution_count": 18,
   "metadata": {},
   "outputs": [
    {
     "data": {
      "text/html": [
       "<div>\n",
       "<style scoped>\n",
       "    .dataframe tbody tr th:only-of-type {\n",
       "        vertical-align: middle;\n",
       "    }\n",
       "\n",
       "    .dataframe tbody tr th {\n",
       "        vertical-align: top;\n",
       "    }\n",
       "\n",
       "    .dataframe thead th {\n",
       "        text-align: right;\n",
       "    }\n",
       "</style>\n",
       "<table border=\"1\" class=\"dataframe\">\n",
       "  <thead>\n",
       "    <tr style=\"text-align: right;\">\n",
       "      <th></th>\n",
       "      <th>LotArea</th>\n",
       "      <th>1stFlrSF</th>\n",
       "      <th>GrLivArea</th>\n",
       "      <th>SalePrice</th>\n",
       "    </tr>\n",
       "  </thead>\n",
       "  <tbody>\n",
       "    <tr>\n",
       "      <th>0</th>\n",
       "      <td>9.614271</td>\n",
       "      <td>7.58883</td>\n",
       "      <td>7.58883</td>\n",
       "      <td>-2.302585</td>\n",
       "    </tr>\n",
       "  </tbody>\n",
       "</table>\n",
       "</div>"
      ],
      "text/plain": [
       "    LotArea  1stFlrSF  GrLivArea  SalePrice\n",
       "0  9.614271   7.58883    7.58883  -2.302585"
      ]
     },
     "execution_count": 18,
     "metadata": {},
     "output_type": "execute_result"
    }
   ],
   "source": [
    "log_test = cont_test.apply(lambda x: np.log(x))\n",
    "log_test"
   ]
  },
  {
   "cell_type": "code",
   "execution_count": 19,
   "metadata": {},
   "outputs": [
    {
     "data": {
      "text/html": [
       "<div>\n",
       "<style scoped>\n",
       "    .dataframe tbody tr th:only-of-type {\n",
       "        vertical-align: middle;\n",
       "    }\n",
       "\n",
       "    .dataframe tbody tr th {\n",
       "        vertical-align: top;\n",
       "    }\n",
       "\n",
       "    .dataframe thead th {\n",
       "        text-align: right;\n",
       "    }\n",
       "</style>\n",
       "<table border=\"1\" class=\"dataframe\">\n",
       "  <thead>\n",
       "    <tr style=\"text-align: right;\">\n",
       "      <th></th>\n",
       "      <th>LotArea</th>\n",
       "      <th>1stFlrSF</th>\n",
       "      <th>GrLivArea</th>\n",
       "      <th>SalePrice</th>\n",
       "    </tr>\n",
       "  </thead>\n",
       "  <tbody>\n",
       "    <tr>\n",
       "      <th>0</th>\n",
       "      <td>0.973248</td>\n",
       "      <td>1.830257</td>\n",
       "      <td>0.962869</td>\n",
       "      <td>-35.878027</td>\n",
       "    </tr>\n",
       "  </tbody>\n",
       "</table>\n",
       "</div>"
      ],
      "text/plain": [
       "    LotArea  1stFlrSF  GrLivArea  SalePrice\n",
       "0  0.973248  1.830257   0.962869 -35.878027"
      ]
     },
     "execution_count": 19,
     "metadata": {},
     "output_type": "execute_result"
    }
   ],
   "source": [
    "cont_test = pd.DataFrame(ss.transform(log_test), columns = log_test.columns)\n",
    "cont_test"
   ]
  },
  {
   "cell_type": "code",
   "execution_count": 20,
   "metadata": {},
   "outputs": [
    {
     "data": {
      "text/html": [
       "<div>\n",
       "<style scoped>\n",
       "    .dataframe tbody tr th:only-of-type {\n",
       "        vertical-align: middle;\n",
       "    }\n",
       "\n",
       "    .dataframe tbody tr th {\n",
       "        vertical-align: top;\n",
       "    }\n",
       "\n",
       "    .dataframe thead th {\n",
       "        text-align: right;\n",
       "    }\n",
       "</style>\n",
       "<table border=\"1\" class=\"dataframe\">\n",
       "  <thead>\n",
       "    <tr style=\"text-align: right;\">\n",
       "      <th></th>\n",
       "      <th>LotArea</th>\n",
       "      <th>1stFlrSF</th>\n",
       "      <th>GrLivArea</th>\n",
       "    </tr>\n",
       "  </thead>\n",
       "  <tbody>\n",
       "    <tr>\n",
       "      <th>0</th>\n",
       "      <td>0.973248</td>\n",
       "      <td>1.830257</td>\n",
       "      <td>0.962869</td>\n",
       "    </tr>\n",
       "  </tbody>\n",
       "</table>\n",
       "</div>"
      ],
      "text/plain": [
       "    LotArea  1stFlrSF  GrLivArea\n",
       "0  0.973248  1.830257   0.962869"
      ]
     },
     "execution_count": 20,
     "metadata": {},
     "output_type": "execute_result"
    }
   ],
   "source": [
    "cont_test.drop(columns = 'SalePrice', inplace=True)\n",
    "cont_test"
   ]
  },
  {
   "cell_type": "code",
   "execution_count": 21,
   "metadata": {},
   "outputs": [
    {
     "data": {
      "text/html": [
       "<div>\n",
       "<style scoped>\n",
       "    .dataframe tbody tr th:only-of-type {\n",
       "        vertical-align: middle;\n",
       "    }\n",
       "\n",
       "    .dataframe tbody tr th {\n",
       "        vertical-align: top;\n",
       "    }\n",
       "\n",
       "    .dataframe thead th {\n",
       "        text-align: right;\n",
       "    }\n",
       "</style>\n",
       "<table border=\"1\" class=\"dataframe\">\n",
       "  <thead>\n",
       "    <tr style=\"text-align: right;\">\n",
       "      <th></th>\n",
       "      <th>BldgType</th>\n",
       "      <th>KitchenQual</th>\n",
       "      <th>SaleType</th>\n",
       "      <th>MSZoning</th>\n",
       "      <th>Street</th>\n",
       "      <th>Neighborhood</th>\n",
       "    </tr>\n",
       "  </thead>\n",
       "  <tbody>\n",
       "    <tr>\n",
       "      <th>0</th>\n",
       "      <td>1Fam</td>\n",
       "      <td>Gd</td>\n",
       "      <td>New</td>\n",
       "      <td>RL</td>\n",
       "      <td>Pave</td>\n",
       "      <td>NridgHt</td>\n",
       "    </tr>\n",
       "  </tbody>\n",
       "</table>\n",
       "</div>"
      ],
      "text/plain": [
       "  BldgType KitchenQual SaleType MSZoning Street Neighborhood\n",
       "0     1Fam          Gd      New       RL   Pave      NridgHt"
      ]
     },
     "execution_count": 21,
     "metadata": {},
     "output_type": "execute_result"
    }
   ],
   "source": [
    "cat_df = pd.DataFrame({'BldgType': ['1Fam'],\n",
    "                       'KitchenQual': ['Gd'],\n",
    "                       'SaleType': ['New'],\n",
    "                       'MSZoning': ['RL'],\n",
    "                       'Street': ['Pave'],\n",
    "                       'Neighborhood': ['NridgHt']   \n",
    "})\n",
    "cat_df"
   ]
  },
  {
   "cell_type": "code",
   "execution_count": 22,
   "metadata": {},
   "outputs": [],
   "source": [
    "cat_ohe = pd.DataFrame(ohe.transform(cat_df), columns = ohe.get_feature_names())"
   ]
  },
  {
   "cell_type": "code",
   "execution_count": 23,
   "metadata": {},
   "outputs": [
    {
     "data": {
      "text/html": [
       "<div>\n",
       "<style scoped>\n",
       "    .dataframe tbody tr th:only-of-type {\n",
       "        vertical-align: middle;\n",
       "    }\n",
       "\n",
       "    .dataframe tbody tr th {\n",
       "        vertical-align: top;\n",
       "    }\n",
       "\n",
       "    .dataframe thead th {\n",
       "        text-align: right;\n",
       "    }\n",
       "</style>\n",
       "<table border=\"1\" class=\"dataframe\">\n",
       "  <thead>\n",
       "    <tr style=\"text-align: right;\">\n",
       "      <th></th>\n",
       "      <th>LotArea</th>\n",
       "      <th>1stFlrSF</th>\n",
       "      <th>GrLivArea</th>\n",
       "      <th>x0_2fmCon</th>\n",
       "      <th>x0_Duplex</th>\n",
       "      <th>x0_Twnhs</th>\n",
       "      <th>x0_TwnhsE</th>\n",
       "      <th>x1_Fa</th>\n",
       "      <th>x1_Gd</th>\n",
       "      <th>x1_TA</th>\n",
       "      <th>...</th>\n",
       "      <th>x5_NoRidge</th>\n",
       "      <th>x5_NridgHt</th>\n",
       "      <th>x5_OldTown</th>\n",
       "      <th>x5_SWISU</th>\n",
       "      <th>x5_Sawyer</th>\n",
       "      <th>x5_SawyerW</th>\n",
       "      <th>x5_Somerst</th>\n",
       "      <th>x5_StoneBr</th>\n",
       "      <th>x5_Timber</th>\n",
       "      <th>x5_Veenker</th>\n",
       "    </tr>\n",
       "  </thead>\n",
       "  <tbody>\n",
       "    <tr>\n",
       "      <th>0</th>\n",
       "      <td>0.973248</td>\n",
       "      <td>1.830257</td>\n",
       "      <td>0.962869</td>\n",
       "      <td>0.0</td>\n",
       "      <td>0.0</td>\n",
       "      <td>0.0</td>\n",
       "      <td>0.0</td>\n",
       "      <td>0.0</td>\n",
       "      <td>1.0</td>\n",
       "      <td>0.0</td>\n",
       "      <td>...</td>\n",
       "      <td>0.0</td>\n",
       "      <td>1.0</td>\n",
       "      <td>0.0</td>\n",
       "      <td>0.0</td>\n",
       "      <td>0.0</td>\n",
       "      <td>0.0</td>\n",
       "      <td>0.0</td>\n",
       "      <td>0.0</td>\n",
       "      <td>0.0</td>\n",
       "      <td>0.0</td>\n",
       "    </tr>\n",
       "  </tbody>\n",
       "</table>\n",
       "<p>1 rows × 47 columns</p>\n",
       "</div>"
      ],
      "text/plain": [
       "    LotArea  1stFlrSF  GrLivArea  x0_2fmCon  x0_Duplex  x0_Twnhs  x0_TwnhsE  \\\n",
       "0  0.973248  1.830257   0.962869        0.0        0.0       0.0        0.0   \n",
       "\n",
       "   x1_Fa  x1_Gd  x1_TA  ...  x5_NoRidge  x5_NridgHt  x5_OldTown  x5_SWISU  \\\n",
       "0    0.0    1.0    0.0  ...         0.0         1.0         0.0       0.0   \n",
       "\n",
       "   x5_Sawyer  x5_SawyerW  x5_Somerst  x5_StoneBr  x5_Timber  x5_Veenker  \n",
       "0        0.0         0.0         0.0         0.0        0.0         0.0  \n",
       "\n",
       "[1 rows x 47 columns]"
      ]
     },
     "execution_count": 23,
     "metadata": {},
     "output_type": "execute_result"
    }
   ],
   "source": [
    "test_df = cont_test.join(cat_ohe)\n",
    "test_df.head()"
   ]
  },
  {
   "cell_type": "code",
   "execution_count": 24,
   "metadata": {},
   "outputs": [
    {
     "data": {
      "text/plain": [
       "(1460, 47)"
      ]
     },
     "execution_count": 24,
     "metadata": {},
     "output_type": "execute_result"
    }
   ],
   "source": [
    "X.shape"
   ]
  },
  {
   "cell_type": "code",
   "execution_count": 25,
   "metadata": {},
   "outputs": [],
   "source": [
    "pred = linreg.predict(test_df)"
   ]
  },
  {
   "cell_type": "code",
   "execution_count": 26,
   "metadata": {},
   "outputs": [
    {
     "data": {
      "text/plain": [
       "array([321800.9761093])"
      ]
     },
     "execution_count": 26,
     "metadata": {},
     "output_type": "execute_result"
    }
   ],
   "source": [
    "my_pred = np.exp((pred * ames_log['SalePrice'].std()) + ames_log['SalePrice'].mean())\n",
    "my_pred"
   ]
  },
  {
   "cell_type": "code",
   "execution_count": 27,
   "metadata": {},
   "outputs": [
    {
     "data": {
      "text/plain": [
       "Text(0, 0.5, 'Price Prediciton')"
      ]
     },
     "execution_count": 27,
     "metadata": {},
     "output_type": "execute_result"
    },
    {
     "data": {
      "image/png": "[encoded data removed]",
      "text/plain": [
       "<Figure size 432x288 with 1 Axes>"
      ]
     },
     "metadata": {
      "needs_background": "light"
     },
     "output_type": "display_data"
    }
   ],
   "source": [
    "import matplotlib.pyplot as plt\n",
    "%matplotlib inline \n",
    "\n",
    "plt.scatter(ames['LotArea'], linreg.predict(X))\n",
    "plt.scatter(14977,pred[0])\n",
    "plt.xlabel('Lot Area')\n",
    "plt.ylabel('Price Prediciton')"
   ]
  },
  {
   "cell_type": "code",
   "execution_count": 28,
   "metadata": {},
   "outputs": [
    {
     "data": {
      "text/plain": [
       "Text(0, 0.5, 'Price Prediciton')"
      ]
     },
     "execution_count": 28,
     "metadata": {},
     "output_type": "execute_result"
    },
    {
     "data": {
      "image/png": "[encoded data removed]",
      "text/plain": [
       "<Figure size 432x288 with 1 Axes>"
      ]
     },
     "metadata": {
      "needs_background": "light"
     },
     "output_type": "display_data"
    }
   ],
   "source": [
    "plt.scatter(ames['1stFlrSF'], linreg.predict(X))\n",
    "plt.scatter(1976,pred[0])\n",
    "plt.xlabel('1stFlrSF')\n",
    "plt.ylabel('Price Prediciton')"
   ]
  },
  {
   "cell_type": "code",
   "execution_count": 29,
   "metadata": {},
   "outputs": [
    {
     "data": {
      "text/plain": [
       "Text(0, 0.5, 'Price Prediciton')"
      ]
     },
     "execution_count": 29,
     "metadata": {},
     "output_type": "execute_result"
    },
    {
     "data": {
      "image/png": "[encoded data removed]",
      "text/plain": [
       "<Figure size 432x288 with 1 Axes>"
      ]
     },
     "metadata": {
      "needs_background": "light"
     },
     "output_type": "display_data"
    }
   ],
   "source": [
    "plt.scatter(ames['GrLivArea'], linreg.predict(X))\n",
    "plt.scatter(1976,pred[0])\n",
    "plt.xlabel('GrLivArea')\n",
    "plt.ylabel('Price Prediciton')"
   ]
  },
  {
   "cell_type": "markdown",
   "metadata": {},
   "source": [
    "## Summary\n",
    "Congratulations! You pre-processed the Ames Housing data using scaling and standardization. You also fitted your first multiple linear regression model on the Ames Housing data using statsmodels and scikit-learn!"
   ]
  }
 ],
 "metadata": {
  "kernelspec": {
   "display_name": "Python [conda env:learn-env] *",
   "language": "python",
   "name": "conda-env-learn-env-py"
  },
  "language_info": {
   "codemirror_mode": {
    "name": "ipython",
    "version": 3
   },
   "file_extension": ".py",
   "mimetype": "text/x-python",
   "name": "python",
   "nbconvert_exporter": "python",
   "pygments_lexer": "ipython3",
   "version": "3.6.9"
  }
 },
 "nbformat": 4,
 "nbformat_minor": 2
}
